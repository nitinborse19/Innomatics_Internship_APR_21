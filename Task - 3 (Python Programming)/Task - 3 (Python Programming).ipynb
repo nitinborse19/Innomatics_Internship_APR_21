{
 "cells": [
  {
   "cell_type": "markdown",
   "metadata": {},
   "source": [
    "## Polar Coordinates"
   ]
  },
  {
   "cell_type": "code",
   "execution_count": 1,
   "metadata": {},
   "outputs": [
    {
     "name": "stdout",
     "output_type": "stream",
     "text": [
      "1+2j\n",
      "2.23606797749979\n",
      "1.1071487177940904\n"
     ]
    }
   ],
   "source": [
    "import cmath\n",
    "c=complex(input().strip())\n",
    "res=cmath.polar(c)\n",
    "print(res[0])\n",
    "print(res[1])"
   ]
  },
  {
   "cell_type": "markdown",
   "metadata": {},
   "source": [
    "## Find Angle MBC"
   ]
  },
  {
   "cell_type": "code",
   "execution_count": 4,
   "metadata": {},
   "outputs": [
    {
     "name": "stdout",
     "output_type": "stream",
     "text": [
      "length of side AB:10\n",
      "length of side BC:10\n",
      "Degree=45°\n"
     ]
    }
   ],
   "source": [
    "import math\n",
    "ab= int(input(\"length of side AB:\"))\n",
    "bc= int(input(\"length of side BC:\"))\n",
    "tita = (math.atan(ab/bc))\n",
    "\n",
    "tita_to_degree =round(math.degrees(tita))\n",
    "print(\"Degree=\",tita_to_degree,chr(176),sep=\"\")"
   ]
  },
  {
   "cell_type": "markdown",
   "metadata": {},
   "source": [
    "## Triangle Quest 2"
   ]
  },
  {
   "cell_type": "code",
   "execution_count": 6,
   "metadata": {},
   "outputs": [
    {
     "name": "stdout",
     "output_type": "stream",
     "text": [
      "Enter number:5\n",
      "1\n",
      "121\n",
      "12321\n",
      "1234321\n",
      "123454321\n"
     ]
    }
   ],
   "source": [
    "for i in range(1,int(input('Enter number:'))+1):\n",
    "    print(((10 ** i)//9)**2)"
   ]
  },
  {
   "cell_type": "markdown",
   "metadata": {},
   "source": [
    "## Mod Divmod"
   ]
  },
  {
   "cell_type": "code",
   "execution_count": 7,
   "metadata": {},
   "outputs": [
    {
     "name": "stdout",
     "output_type": "stream",
     "text": [
      "Enter 1st No:177\n",
      "Enter 2nd No:10\n",
      "17\n",
      "7\n",
      "(17, 7)\n"
     ]
    }
   ],
   "source": [
    "a=int(input(\"Enter 1st No:\"))\n",
    "b=int(input(\"Enter 2nd No:\"))\n",
    "num=divmod(a,b)\n",
    "print(num[0])\n",
    "print(num[1])\n",
    "print(num)    "
   ]
  },
  {
   "cell_type": "markdown",
   "metadata": {},
   "source": [
    "## Power - Mod Power"
   ]
  },
  {
   "cell_type": "code",
   "execution_count": 9,
   "metadata": {},
   "outputs": [
    {
     "name": "stdout",
     "output_type": "stream",
     "text": [
      "Enter 1st No:3\n",
      "Enter 2nd No:4\n",
      "Enter 3rd No:5\n",
      "Power of 1st & 2nd No 81\n",
      "Power of Three No 1\n"
     ]
    }
   ],
   "source": [
    "a = int(input(\"Enter 1st No:\"))\n",
    "b = int(input(\"Enter 2nd No:\"))\n",
    "c = int(input(\"Enter 3rd No:\"))\n",
    "print(\"Power of 1st & 2nd No\",pow(a,b))\n",
    "print(\"Power of Three No\",pow(a,b,c))"
   ]
  },
  {
   "cell_type": "markdown",
   "metadata": {},
   "source": [
    "## Integers Come In All Sizes"
   ]
  },
  {
   "cell_type": "code",
   "execution_count": 10,
   "metadata": {},
   "outputs": [
    {
     "name": "stdout",
     "output_type": "stream",
     "text": [
      "enter no:9\n",
      "enter no:29\n",
      "enter no:7\n",
      "enter no:27\n",
      "4710194409608608369201743232\n"
     ]
    }
   ],
   "source": [
    "a,b,c,d = (int(input(\"enter no:\")) for _ in range(4))\n",
    "print(pow(a,b)+pow(c,d))"
   ]
  },
  {
   "cell_type": "markdown",
   "metadata": {},
   "source": [
    "## Triangle Quest"
   ]
  },
  {
   "cell_type": "code",
   "execution_count": 11,
   "metadata": {},
   "outputs": [
    {
     "name": "stdout",
     "output_type": "stream",
     "text": [
      "Enter no:5\n",
      "1\n",
      "22\n",
      "333\n",
      "4444\n"
     ]
    }
   ],
   "source": [
    "for i in range(1,int(input(\"Enter no:\"))):\n",
    "    print((pow(10,i)//9)*i)"
   ]
  }
 ],
 "metadata": {
  "kernelspec": {
   "display_name": "Python 3",
   "language": "python",
   "name": "python3"
  },
  "language_info": {
   "codemirror_mode": {
    "name": "ipython",
    "version": 3
   },
   "file_extension": ".py",
   "mimetype": "text/x-python",
   "name": "python",
   "nbconvert_exporter": "python",
   "pygments_lexer": "ipython3",
   "version": "3.8.3"
  }
 },
 "nbformat": 4,
 "nbformat_minor": 4
}
