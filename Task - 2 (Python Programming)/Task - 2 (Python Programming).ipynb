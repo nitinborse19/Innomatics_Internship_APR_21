{
 "cells": [
  {
   "cell_type": "markdown",
   "metadata": {},
   "source": [
    "## List Comprehensions"
   ]
  },
  {
   "cell_type": "code",
   "execution_count": 1,
   "metadata": {},
   "outputs": [
    {
     "name": "stdout",
     "output_type": "stream",
     "text": [
      "2\n",
      "2\n",
      "2\n",
      "2\n",
      "[[0, 0, 0], [0, 0, 1], [0, 1, 0], [0, 1, 2], [0, 2, 1], [0, 2, 2], [1, 0, 0], [1, 0, 2], [1, 1, 1], [1, 1, 2], [1, 2, 0], [1, 2, 1], [1, 2, 2], [2, 0, 1], [2, 0, 2], [2, 1, 0], [2, 1, 1], [2, 1, 2], [2, 2, 0], [2, 2, 1], [2, 2, 2]]\n"
     ]
    }
   ],
   "source": [
    "if __name__ == '__main__':\n",
    "    a = int(input())\n",
    "    b = int(input())\n",
    "    c = int(input())\n",
    "    n = int(input())\n",
    "    l=[]\n",
    "    for i in range(a+1):\n",
    "        for j in range(b+1):\n",
    "            for k in range(c+1):\n",
    "                if ((i+j+k)!= n):\n",
    "                    l.append([i,j,k])\n",
    "    print(l)                "
   ]
  },
  {
   "cell_type": "markdown",
   "metadata": {},
   "source": [
    "## Find the Runner-Up Score!"
   ]
  },
  {
   "cell_type": "code",
   "execution_count": 3,
   "metadata": {},
   "outputs": [
    {
     "name": "stdout",
     "output_type": "stream",
     "text": [
      "5\n",
      "2 3 6 6 5\n",
      "5\n"
     ]
    }
   ],
   "source": [
    "if __name__ == '__main__':\n",
    "    n = int(input())\n",
    "    m = map(int, input().split())\n",
    "    N=[]\n",
    "    \n",
    "    for i in m:\n",
    "        \n",
    "        if i not in N:\n",
    "            \n",
    "            N.append(i)\n",
    "            \n",
    "    N.sort(reverse=True)\n",
    "    \n",
    "    print(N[1])        "
   ]
  },
  {
   "cell_type": "markdown",
   "metadata": {},
   "source": [
    "## Nested Lists"
   ]
  },
  {
   "cell_type": "code",
   "execution_count": 6,
   "metadata": {},
   "outputs": [
    {
     "name": "stdout",
     "output_type": "stream",
     "text": [
      "Enter the name:5\n",
      "Harry\n",
      "Enter the score:37.21\n",
      "Berry\n",
      "Enter the score:37.21\n",
      "Tine\n",
      "Enter the score:37.2\n",
      "Akriti\n",
      "Enter the score:41\n",
      "Harsh\n",
      "Enter the score:39\n",
      "Name of student having the second lowest grade: Berry\n",
      "Name of student having the second lowest grade: Harry\n"
     ]
    }
   ],
   "source": [
    "if __name__ == '__main__':\n",
    "    dict={}\n",
    "    n=[]\n",
    "    for _ in range(int(input(\"Enter the name:\"))):\n",
    "        name = input()\n",
    "        score = float(input(\"Enter the score:\"))\n",
    "        if score in dict:\n",
    "            dict[score].append(name)\n",
    "        else:\n",
    "            dict[score]=[name]\n",
    "        if score not in n:\n",
    "            n.append(score)\n",
    "                \n",
    "    m=min(n)\n",
    "    n.remove(m)\n",
    "    m1=min(n)\n",
    "    dict[m1].sort()\n",
    "    for i in dict[m1]:\n",
    "        print(\"Name of student having the second lowest grade:\", i)"
   ]
  },
  {
   "cell_type": "markdown",
   "metadata": {},
   "source": [
    "## Finding the percentage"
   ]
  },
  {
   "cell_type": "code",
   "execution_count": 29,
   "metadata": {},
   "outputs": [
    {
     "name": "stdout",
     "output_type": "stream",
     "text": [
      "Enter the student Record:2\n",
      "Enter the student Name and Marks:Nitin 34 56 78 \n",
      "Enter the student Name and Marks:Raj 56 34 89\n",
      "Enter student Name:Nitin\n",
      "56.00\n"
     ]
    }
   ],
   "source": [
    "if __name__ == '__main__':\n",
    "    n = int(input(\"Enter the student Record:\"))\n",
    "    student_marks = {}\n",
    "    for _ in range(n):\n",
    "        name, *line = input(\"Enter the student Name and Marks:\").split()\n",
    "        scores = list(map(float, line))\n",
    "        student_marks[name] = scores\n",
    "    query_name = input(\"Enter student Name:\")\n",
    "    for i in student_marks:\n",
    "        if i==query_name:\n",
    "            a=sum(student_marks[i])\n",
    "            b=len(student_marks[i])\n",
    "            print(\"%.2f\"%(a/b))"
   ]
  },
  {
   "cell_type": "markdown",
   "metadata": {},
   "source": [
    "## Lists"
   ]
  },
  {
   "cell_type": "code",
   "execution_count": 34,
   "metadata": {},
   "outputs": [
    {
     "name": "stdout",
     "output_type": "stream",
     "text": [
      "3\n",
      "12\n",
      "34\n",
      "32\n"
     ]
    }
   ],
   "source": [
    "if __name__ == '__main__':\n",
    "    N = int(input())\n",
    "    arr=[]\n",
    "    for i in range(N):\n",
    "        s=input().split()\n",
    "        for i in range(1,len(s)):\n",
    "            s[i]=int(s[i])\n",
    "            \n",
    "        if s[0] == 'append':\n",
    "            arr.append(\"Append\",s[1])\n",
    "        elif s[0] == 'insert':\n",
    "            arr.insert(s[1],s[2])\n",
    "        elif s[0] == 'remove':\n",
    "            arr.remove(s[1])        \n",
    "        elif s[0] == 'pop':\n",
    "            arr.pop()\n",
    "        elif s[0] == 'sort':\n",
    "            arr.sort()            \n",
    "        elif s[0] == 'reverse':\n",
    "            arr.reverse()    \n",
    "        elif s[0] == 'print':\n",
    "            print(arr)  "
   ]
  },
  {
   "cell_type": "markdown",
   "metadata": {},
   "source": [
    "## Tuples"
   ]
  },
  {
   "cell_type": "code",
   "execution_count": 37,
   "metadata": {},
   "outputs": [
    {
     "name": "stdout",
     "output_type": "stream",
     "text": [
      "Number of elements in the tuple:2\n",
      "Space-separated integers describing the elements in tuple:1 2\n",
      "-3550055125485641917\n"
     ]
    }
   ],
   "source": [
    "if __name__ == '__main__':\n",
    "    n = int(input(\"Number of elements in the tuple:\"))\n",
    "    integer_list = map(int, input(\"Space-separated integers describing the elements in tuple:\").split())\n",
    "    n=tuple(integer_list)\n",
    "    print(hash(n))\n"
   ]
  },
  {
   "cell_type": "markdown",
   "metadata": {},
   "source": [
    "## Introduction to Sets"
   ]
  },
  {
   "cell_type": "code",
   "execution_count": 41,
   "metadata": {},
   "outputs": [
    {
     "name": "stdout",
     "output_type": "stream",
     "text": [
      "Size of array:10\n",
      "Enter Element Seperated by space:161 182 161 154 176 170 167 171 170 174\n",
      "Average= 169.375\n"
     ]
    }
   ],
   "source": [
    "def average(array):\n",
    "    # your code goes here\n",
    "    a=set(array)\n",
    "    return (sum(a)/len(a))\n",
    "if __name__ == '__main__':\n",
    "    n = int(input(\"Size of array:\"))\n",
    "    arr = list(map(int, input(\"Enter Element Seperated by space:\").split()))\n",
    "    result = average(arr)\n",
    "    print(\"Average=\",result)"
   ]
  },
  {
   "cell_type": "markdown",
   "metadata": {},
   "source": [
    "## No Idea!"
   ]
  },
  {
   "cell_type": "code",
   "execution_count": 42,
   "metadata": {},
   "outputs": [
    {
     "name": "stdout",
     "output_type": "stream",
     "text": [
      "3 2\n",
      "1 5 3\n",
      "3 1\n",
      "5 7\n",
      "1\n"
     ]
    }
   ],
   "source": [
    "n,m=map(int,input().split())\n",
    "arr=list(map(int,input().split()))\n",
    "a=set(map(int,input().split()))\n",
    "b=set(map(int,input().split()))\n",
    "print(sum((i in a)-(i in b) for i in arr))"
   ]
  },
  {
   "cell_type": "markdown",
   "metadata": {},
   "source": [
    "## Symmetric Difference"
   ]
  },
  {
   "cell_type": "code",
   "execution_count": 45,
   "metadata": {},
   "outputs": [
    {
     "name": "stdout",
     "output_type": "stream",
     "text": [
      "Set Size:4\n",
      "Element enter Sep by Space:2 4 5 9\n",
      "Set Size4\n",
      "Element enter sep by space:2 4 11 12\n",
      "5\n",
      "9\n",
      "11\n",
      "12\n"
     ]
    }
   ],
   "source": [
    "n,m=(int(input(\"Set Size:\")),input(\"Element enter Sep by Space:\").split())\n",
    "o,p=(int(input(\"Set Size:\")),input(\"Element enter sep by space:\").split())\n",
    "x=set(m)\n",
    "y=set(p)\n",
    "q=y.difference(x)\n",
    "r=x.difference(y)\n",
    "s=q.union(r)\n",
    "print(\"\\n\".join(sorted(s,key=int)))"
   ]
  },
  {
   "cell_type": "markdown",
   "metadata": {},
   "source": [
    "## Set .add()"
   ]
  },
  {
   "cell_type": "code",
   "execution_count": 47,
   "metadata": {},
   "outputs": [
    {
     "name": "stdout",
     "output_type": "stream",
     "text": [
      "7\n",
      "Uk\n",
      "China\n",
      "USA\n",
      "France\n",
      "New Zealand\n",
      "Uk\n",
      "France\n",
      "Output 5\n"
     ]
    }
   ],
   "source": [
    "n=int(input())\n",
    "set1=set()\n",
    "for i in range(n):\n",
    "    set1.add(input())\n",
    "print(\"Output\",len(set1))"
   ]
  },
  {
   "cell_type": "markdown",
   "metadata": {},
   "source": [
    "## Set .discard(), .remove() & .pop()"
   ]
  },
  {
   "cell_type": "code",
   "execution_count": 5,
   "metadata": {},
   "outputs": [
    {
     "name": "stdout",
     "output_type": "stream",
     "text": [
      "Enter Number of Element:9\n",
      "Enter the Element:1 2 3 4 5 6 7 8 9\n",
      "Enter the number of Command:10\n",
      "Enter the command & Number:pop\n",
      "Enter the command & Number:remove 9\n",
      "Enter the command & Number:discard 9\n",
      "Enter the command & Number:discard 8\n",
      "Enter the command & Number:remove 7\n",
      "Enter the command & Number:pop\n",
      "Enter the command & Number:discard 6\n",
      "Enter the command & Number:remove 5\n",
      "Enter the command & Number:pop\n",
      "Enter the command & Number:discard 5\n",
      "list of total element 4\n"
     ]
    }
   ],
   "source": [
    "n = int(input(\"Enter Number of Element:\"))\n",
    "s = set(map(int,input(\"Enter the Element:\").split()))\n",
    "m =int(input(\"Enter the number of Command:\"))\n",
    "for i in range(m):\n",
    "    s1=list(input(\"Enter the command & Number:\").split())\n",
    "    if s1[0]==\"pop\":\n",
    "        s.pop()\n",
    "    elif s1[0]==\"remove\":\n",
    "        s.remove(int(s1[1]))\n",
    "    elif s1[0]==\"discard\":\n",
    "        s.discard(int(s1[1]))        \n",
    "sum=0\n",
    "for i in s:\n",
    "    sum=sum+i\n",
    "print(\"list of total element\",sum) "
   ]
  },
  {
   "cell_type": "markdown",
   "metadata": {},
   "source": [
    "## Set .union() Operation"
   ]
  },
  {
   "cell_type": "code",
   "execution_count": 55,
   "metadata": {},
   "outputs": [
    {
     "name": "stdout",
     "output_type": "stream",
     "text": [
      "Size of Set:9\n",
      "Enter Element:1 2 3 4 5 6 7 8 9\n",
      "Size Of Set:9\n",
      "Enter Element:10 1 2 3 11 21 55 6 8\n",
      "Totol Element 13\n"
     ]
    }
   ],
   "source": [
    "n=int(input(\"Size of Set:\"))\n",
    "n1=set(map(int,input(\"Enter Element:\").split()))\n",
    "m=int(input(\"Size Of Set:\"))\n",
    "m1=set(map(int,input(\"Enter Element:\").split()))\n",
    "ans=n1.union(m1)\n",
    "count=0\n",
    "for i in ans:\n",
    "    count=count+1\n",
    "print(\"Totol Element\",count)"
   ]
  },
  {
   "cell_type": "markdown",
   "metadata": {},
   "source": [
    "## Set .intersection() Operation"
   ]
  },
  {
   "cell_type": "code",
   "execution_count": 56,
   "metadata": {},
   "outputs": [
    {
     "name": "stdout",
     "output_type": "stream",
     "text": [
      "Size of Set:9\n",
      "Enter Element:1 2 3 4 5 6 7 8 9\n",
      "Size Of Set:9\n",
      "Enter Element10 1 2 3 11 21 55 6 8\n",
      "Totol Element 5\n"
     ]
    }
   ],
   "source": [
    "n=int(input(\"Size of Set:\"))\n",
    "n1=set(map(int,input(\"Enter Element:\").split()))\n",
    "m=int(input(\"Size Of Set:\"))\n",
    "m1=set(map(int,input(\"Enter Element\").split()))\n",
    "ans=n1.intersection(m1)\n",
    "count=0\n",
    "for i in ans:\n",
    "    count=count+1\n",
    "print(\"Totol Element\",count)"
   ]
  },
  {
   "cell_type": "markdown",
   "metadata": {},
   "source": [
    "## Set .difference()"
   ]
  },
  {
   "cell_type": "code",
   "execution_count": 57,
   "metadata": {},
   "outputs": [
    {
     "name": "stdout",
     "output_type": "stream",
     "text": [
      "Size of Set:9\n",
      "Enter Element:1 2 3 4 5 6 7 8 9\n",
      "Size Of Set:9\n",
      "Enter Element10 1 2 3 11 21 55 6 8\n",
      "Totol Element 4\n"
     ]
    }
   ],
   "source": [
    "n=int(input(\"Size of Set:\"))\n",
    "n1=set(map(int,input(\"Enter Element:\").split()))\n",
    "m=int(input(\"Size Of Set:\"))\n",
    "m1=set(map(int,input(\"Enter Element\").split()))\n",
    "ans=n1.difference(m1)\n",
    "count=0\n",
    "for i in ans:\n",
    "    count=count+1\n",
    "print(\"Totol Element\",count)"
   ]
  },
  {
   "cell_type": "markdown",
   "metadata": {},
   "source": [
    "## Set .symmetric_difference() Operation"
   ]
  },
  {
   "cell_type": "code",
   "execution_count": 58,
   "metadata": {},
   "outputs": [
    {
     "name": "stdout",
     "output_type": "stream",
     "text": [
      "Size of Set:9\n",
      "Enter Element:1 2 3 4 5 6 7 8 9\n",
      "Size Of Set:9\n",
      "Enter Element:10 1 2 3 11 21 55 6 8\n",
      "Totol Element 8\n"
     ]
    }
   ],
   "source": [
    "n=int(input(\"Size of Set:\"))\n",
    "n1=set(map(int,input(\"Enter Element:\").split()))\n",
    "m=int(input(\"Size Of Set:\"))\n",
    "m1=set(map(int,input(\"Enter Element:\").split()))\n",
    "ans=n1.symmetric_difference(m1)\n",
    "count=0\n",
    "for i in ans:\n",
    "    count=count+1\n",
    "print(\"Totol Element\",count)"
   ]
  },
  {
   "cell_type": "markdown",
   "metadata": {},
   "source": [
    "## Set Mutations"
   ]
  },
  {
   "cell_type": "code",
   "execution_count": null,
   "metadata": {},
   "outputs": [],
   "source": [
    "n=int(input(\"Number of Element in a set A:\"))\n",
    "l=set(map(int,input(\"Enter the Element by seperator space:\").split()))\n",
    "rep=int(input(\"Enter the number Other set:\"))\n",
    "for i in range(rep):\n",
    "    sr,num = input(\"Enter the Command & Number:\").split()\n",
    "    l2 = set(map(int,input(\"Enter the Element:\").split()))\n",
    "    eval(\"l.{0}({1})\".format(sr,l2))\n",
    "\n",
    "print(\"Sum of Element in Set A:\",sum(l))"
   ]
  },
  {
   "cell_type": "markdown",
   "metadata": {},
   "source": [
    "## The Captain's Room"
   ]
  },
  {
   "cell_type": "code",
   "execution_count": 60,
   "metadata": {},
   "outputs": [
    {
     "name": "stdout",
     "output_type": "stream",
     "text": [
      "5\n",
      "1 2 3 6 5 4 4 2 5 3 6 1 6 5 3 2 4 1 2 5 1 4 3 6 8 4 3 1 5 6 2 \n",
      "8\n"
     ]
    }
   ],
   "source": [
    "b = input()\n",
    "a = input(\"\").split()\n",
    "s = set()\n",
    "t = set()\n",
    "for i in a:\n",
    "    if i not in s:\n",
    "        s.add(i)\n",
    "        t.add(i)\n",
    "    else:\n",
    "        t.discard(i)\n",
    "print(t.pop())            "
   ]
  },
  {
   "cell_type": "markdown",
   "metadata": {},
   "source": [
    "## Check Subset"
   ]
  },
  {
   "cell_type": "code",
   "execution_count": 20,
   "metadata": {},
   "outputs": [
    {
     "name": "stdout",
     "output_type": "stream",
     "text": [
      "Number Of Test Case:3\n",
      "Each test case contains the number of elements in set A5\n",
      "Enter the Element using space sep:1 2 3 5 6\n",
      "Each test case contains the number of elements in set B9\n",
      "Enter the Element using space sep:9 8 5 6 3 2 1 4 7\n",
      "True\n",
      "Each test case contains the number of elements in set A1\n",
      "Enter the Element using space sep:2\n",
      "Each test case contains the number of elements in set B5\n",
      "Enter the Element using space sep:3 6 5 4 1\n",
      "False\n",
      "Each test case contains the number of elements in set A7\n",
      "Enter the Element using space sep:1 2 3 5 6 8 9\n",
      "Each test case contains the number of elements in set B3\n",
      "Enter the Element using space sep:9 8 2\n",
      "False\n"
     ]
    }
   ],
   "source": [
    "def Checker():\n",
    "    x = int(input(\"Each test case contains the number of elements in set A\"))\n",
    "    s1 = set(map(int,input(\"Enter the Element using space sep:\").split()))\n",
    "    y = int(input(\"Each test case contains the number of elements in set B\"))\n",
    "    s2 = set(map(int,input(\"Enter the Element using space sep:\").split()))\n",
    "    l=[]\n",
    "    for i in s1:\n",
    "        if i in s2:\n",
    "            l.append(i)\n",
    "    l =set(l)  \n",
    "    if l==s1:\n",
    "        print(True)\n",
    "    else:\n",
    "        print(False)\n",
    "                  \n",
    "t = int(input(\"Number Of Test Case:\"))\n",
    "for i in range(t):\n",
    "    Checker()"
   ]
  },
  {
   "cell_type": "markdown",
   "metadata": {},
   "source": [
    "## Check Strict Superset"
   ]
  },
  {
   "cell_type": "code",
   "execution_count": 61,
   "metadata": {},
   "outputs": [
    {
     "name": "stdout",
     "output_type": "stream",
     "text": [
      "Enter the Element:1 2 3 4 5 6 7 8 9 10 11 12 23 45 84 78\n",
      "Enter the 2nd Line Element:2\n",
      "Enter the Element:1 2 3 4 5\n",
      "Enter the Element:100 11 12\n",
      "False\n"
     ]
    }
   ],
   "source": [
    "l = set(map(int,input(\"Enter the Element:\").split()))\n",
    "n =int(input(\"Enter the 2nd Line Element:\"))\n",
    "for i in range(n):\n",
    "    l1 =set(map(int,input(\"Enter the Element:\").split()))\n",
    "    if len(l1.difference(l)) == 0:\n",
    "        val= \"True\"\n",
    "    else:\n",
    "        val = \"False\"\n",
    "        break;\n",
    "print(val)        \n"
   ]
  },
  {
   "cell_type": "code",
   "execution_count": null,
   "metadata": {},
   "outputs": [],
   "source": []
  }
 ],
 "metadata": {
  "kernelspec": {
   "display_name": "Python 3",
   "language": "python",
   "name": "python3"
  },
  "language_info": {
   "codemirror_mode": {
    "name": "ipython",
    "version": 3
   },
   "file_extension": ".py",
   "mimetype": "text/x-python",
   "name": "python",
   "nbconvert_exporter": "python",
   "pygments_lexer": "ipython3",
   "version": "3.8.3"
  }
 },
 "nbformat": 4,
 "nbformat_minor": 4
}
